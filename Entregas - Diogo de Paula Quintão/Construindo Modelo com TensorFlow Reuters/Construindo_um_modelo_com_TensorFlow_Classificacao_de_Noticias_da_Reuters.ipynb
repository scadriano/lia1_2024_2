{
 "cells": [
  {
   "cell_type": "markdown",
   "metadata": {},
   "source": [
    "# **Projeto Ponta a Ponta - Construindo um Modelo com Keras - Reuters Newswire Classification**\n",
    "\n",
    "**Problema:** construir um modelo de Inteligência Artificial capaz de classificar notícias em diferentes categorias, utilizando o conjunto de dados Reuters Newswire, composto por textos noticiosos classificados em 46 categorias, abrangendo tópicos como economia, tecnologia, política, e outros.\n",
    "\n",
    "**Não há mágica. Há matemática!** 🧙"
   ]
  },
  {
   "cell_type": "code",
   "execution_count": 143,
   "metadata": {},
   "outputs": [],
   "source": [
    "# Importando o necessário\n",
    "import numpy as np\n",
    "import scipy as sp\n",
    "import matplotlib.pyplot as plt\n",
    "import tensorflow as tf\n",
    "from tensorflow.keras.datasets import reuters"
   ]
  },
  {
   "cell_type": "markdown",
   "metadata": {},
   "source": [
    "**Carregando os dados de Treino e Teste**"
   ]
  },
  {
   "cell_type": "code",
   "execution_count": 144,
   "metadata": {},
   "outputs": [],
   "source": [
    "# Carregando o dataset de notícias da Reuters\n",
    "(train_data, train_labels), (test_data, test_labels) = reuters.load_data(num_words=10000)"
   ]
  },
  {
   "cell_type": "code",
   "execution_count": 145,
   "metadata": {},
   "outputs": [],
   "source": [
    "# Classes das notícias da Reuters\n",
    "nomes_classes = [\n",
    "    'cocoa', 'grain', 'crude', 'trade', 'interest', 'ship', 'wheat', 'corn',\n",
    "    'money-fx', 'coffee', 'sugar', 'gold', 'oilseed', 'veg-oil', 'earn',\n",
    "    'acq', 'alum', 'tin', 'strategic-metal', 'livestock', 'retail', 'ipi',\n",
    "    'iron-steel', 'meal-feed', 'copra-cake', 'rubber', 'palm-oil', 'coconut',\n",
    "    'palmkernel', 'naphtha', 'wool', 'reserves', 'shipyard', 'zinc',\n",
    "    'copper', 'lead', 'tin-plate', 'strategic-stockpile', 'nat-gas', 'soybean',\n",
    "    'soy-meal', 'soy-oil', 'sorghum', 'cotton', 'coconut-oil', 'coal', 'iron-ore'\n",
    "]"
   ]
  },
  {
   "cell_type": "markdown",
   "metadata": {},
   "source": [
    "**Pré-processamento**\n",
    "\n",
    "Fazer pré-processamento nos dados, em nosso caso as noticias."
   ]
  },
  {
   "cell_type": "code",
   "execution_count": 146,
   "metadata": {},
   "outputs": [
    {
     "name": "stdout",
     "output_type": "stream",
     "text": [
      "? a large dutch animal feed ? will begin formal legal proceedings early next month as a test case on the way the ec grain co responsibility levy is applied a spokesman for dutch grain and feed trade association het comite told reuters het comite has been co ? national actions against alleged distortions caused by currency factors in the levy and since december has ? more than 80 individual cases with the business appeal court in the hague the basic complaint is that the levy does not take account of currency cross rates of exchange and therefore ? in countries with strong currencies may have to pay more in their own currency than is paid to them by producers in another country het comite has obtained a temporary agreement that companies can pay the amount they receive toward the levy rather than paying a full guilder amount to the dutch grain commodity board the spokesman said het comite will provide financial and legal backing to the test case in the business administration court in the hague ? proceedings are to begin on april 10 the spokesman said het comite finally selected the company for the test case from among the 80 ? because the bill the firm received from the commodity board for payment of the levy contained significant currency distortions and involved grain from a wide variety of origins the name of the company is not being made public the administration court is not expected to make a final ruling on the case in the near future the het comite spokesman said it was very likely it would refer questions to the appeal court in luxembourg and as a result it could easily be another nine to 12 months before the matter is finally resolved meanwhile the actions by dutch animal feed ? are putting pressure on the commodity board to urge the dutch government to follow through on earlier statements and seek a complete review in brussels of the way in which the levy is ? the spokesman said het comite as a member of ? the association of european animal feed manufacturers is also a party to actions protesting the whole levy in the luxembourg appeal court reuter 3\n",
      "categoria: grain\n"
     ]
    }
   ],
   "source": [
    "# Decodificando uma notícia \n",
    "idx = 27\n",
    "# Obtendo o dicionário de palavras\n",
    "word_index = reuters.get_word_index()\n",
    "reverse_word_index = dict([(value, key) for (key, value) in word_index.items()])\n",
    "decoded_newswire = ' '.join([reverse_word_index.get(i - 3, '?') for i in train_data[idx]])\n",
    "print(decoded_newswire)\n",
    "print('categoria: ' + nomes_classes[train_labels[idx]])\n"
   ]
  },
  {
   "cell_type": "code",
   "execution_count": 147,
   "metadata": {},
   "outputs": [],
   "source": [
    "# Vetorizando os dados\n",
    "# O resultado é uma matriz com 10.000 colunas, onde cada coluna representa uma palavra do vocabulário (dicionário de palavras).\n",
    "# Cada linha da matriz representa uma notícia.\n",
    "# Cada linha é um vetor de 10.000 posições, onde cada posição é 1 se a palavra correspondente estiver presente na notícia, \n",
    "# e 0 se a palavra estiver ausente.\n",
    "def vectorize_sequences(sequences, dimension=10000):\n",
    "    results = np.zeros((len(sequences), dimension))  # Cria uma matriz de zeros com dimensões [número de notícias, dimensão]\n",
    "    for i, sequence in enumerate(sequences):\n",
    "        results[i, sequence] = 1  # Para cada notícia, define 1 nas posições correspondentes às palavras presentes\n",
    "    return results\n",
    "\n",
    "# Vetorizando os dados de treino e teste para que as notícias sejam representadas como vetores binários\n",
    "X_train = vectorize_sequences(train_data)\n",
    "X_test = vectorize_sequences(test_data)"
   ]
  },
  {
   "cell_type": "code",
   "execution_count": 148,
   "metadata": {},
   "outputs": [],
   "source": [
    "from tensorflow.keras.utils import to_categorical\n",
    "\n",
    "# Vetorizando as classes\n",
    "Y_train = to_categorical(train_labels)\n",
    "Y_test = to_categorical(test_labels)\n",
    "\n",
    "# Separando um conjunto de validação\n",
    "numVal = 1000\n",
    "# Dados de validação\n",
    "X_val = X_train[:numVal]\n",
    "Y_val = Y_train[:numVal]\n",
    "X_train = X_train[numVal:]\n",
    "Y_train = Y_train[numVal:]"
   ]
  },
  {
   "cell_type": "markdown",
   "metadata": {},
   "source": [
    "**Construindo a Rede Neural Convolucional**\n",
    "\n",
    "O Keras é uma biblioteca do TensorFlow."
   ]
  },
  {
   "cell_type": "code",
   "execution_count": 149,
   "metadata": {},
   "outputs": [],
   "source": [
    "# Cria o objeto de sequência de camadas 3 do Keras\n",
    "ReutersModel = models.Sequential()\n",
    "ReutersModel.add(layers.Input(shape=(10000,)))\n",
    "ReutersModel.add(layers.Dense(64, activation='relu'))\n",
    "ReutersModel.add(layers.Dense(64, activation='relu'))\n",
    "ReutersModel.add(layers.Dense(46, activation='softmax'))\n",
    "\n",
    "# Compila o modelo\n",
    "ReutersModel.compile(optimizer='rmsprop', loss='categorical_crossentropy', metrics=['accuracy'])\n",
    "# rmsprop é um otimizador que ajusta a taxa de aprendizado automaticamente durante o treinamento \n",
    "# categorical_crossentropy é a função de perda que é usada para classes categóricas\n",
    "# accuracy é a métrica que queremos"
   ]
  },
  {
   "cell_type": "markdown",
   "metadata": {},
   "source": [
    "**Treinamento do modelo**"
   ]
  },
  {
   "cell_type": "code",
   "execution_count": 150,
   "metadata": {},
   "outputs": [
    {
     "name": "stdout",
     "output_type": "stream",
     "text": [
      "Epoch 1/8\n",
      "\u001b[1m16/16\u001b[0m \u001b[32m━━━━━━━━━━━━━━━━━━━━\u001b[0m\u001b[37m\u001b[0m \u001b[1m1s\u001b[0m 21ms/step - accuracy: 0.3741 - loss: 3.2011 - val_accuracy: 0.6270 - val_loss: 1.8844\n",
      "Epoch 2/8\n",
      "\u001b[1m16/16\u001b[0m \u001b[32m━━━━━━━━━━━━━━━━━━━━\u001b[0m\u001b[37m\u001b[0m \u001b[1m0s\u001b[0m 11ms/step - accuracy: 0.6617 - loss: 1.6707 - val_accuracy: 0.6900 - val_loss: 1.4018\n",
      "Epoch 3/8\n",
      "\u001b[1m16/16\u001b[0m \u001b[32m━━━━━━━━━━━━━━━━━━━━\u001b[0m\u001b[37m\u001b[0m \u001b[1m0s\u001b[0m 12ms/step - accuracy: 0.7334 - loss: 1.1945 - val_accuracy: 0.7390 - val_loss: 1.2212\n",
      "Epoch 4/8\n",
      "\u001b[1m16/16\u001b[0m \u001b[32m━━━━━━━━━━━━━━━━━━━━\u001b[0m\u001b[37m\u001b[0m \u001b[1m0s\u001b[0m 11ms/step - accuracy: 0.7871 - loss: 0.9975 - val_accuracy: 0.7630 - val_loss: 1.1086\n",
      "Epoch 5/8\n",
      "\u001b[1m16/16\u001b[0m \u001b[32m━━━━━━━━━━━━━━━━━━━━\u001b[0m\u001b[37m\u001b[0m \u001b[1m0s\u001b[0m 11ms/step - accuracy: 0.8282 - loss: 0.8152 - val_accuracy: 0.7850 - val_loss: 1.0320\n",
      "Epoch 6/8\n",
      "\u001b[1m16/16\u001b[0m \u001b[32m━━━━━━━━━━━━━━━━━━━━\u001b[0m\u001b[37m\u001b[0m \u001b[1m0s\u001b[0m 12ms/step - accuracy: 0.8565 - loss: 0.6924 - val_accuracy: 0.8030 - val_loss: 0.9804\n",
      "Epoch 7/8\n",
      "\u001b[1m16/16\u001b[0m \u001b[32m━━━━━━━━━━━━━━━━━━━━\u001b[0m\u001b[37m\u001b[0m \u001b[1m0s\u001b[0m 14ms/step - accuracy: 0.8833 - loss: 0.5691 - val_accuracy: 0.8030 - val_loss: 0.9376\n",
      "Epoch 8/8\n",
      "\u001b[1m16/16\u001b[0m \u001b[32m━━━━━━━━━━━━━━━━━━━━\u001b[0m\u001b[37m\u001b[0m \u001b[1m0s\u001b[0m 13ms/step - accuracy: 0.8964 - loss: 0.5046 - val_accuracy: 0.8080 - val_loss: 0.9133\n"
     ]
    },
    {
     "name": "stderr",
     "output_type": "stream",
     "text": [
      "WARNING:absl:You are saving your model as an HDF5 file via `model.save()` or `keras.saving.save_model(model)`. This file format is considered legacy. We recommend using instead the native Keras format, e.g. `model.save('my_model.keras')` or `keras.saving.save_model(model, 'my_model.keras')`. \n"
     ]
    }
   ],
   "source": [
    "# Treinar o modelo usando os dados de treino (X_train e Y_train)\n",
    "resultado = ReutersModel.fit(X_train, Y_train, epochs=8, batch_size=512, validation_data=(X_val, Y_val))\n",
    "# epochs é o número de épocas que queremos treinar\n",
    "# batch_size é o número de amostras que usamos para calcular o gradiente\n",
    "# validation_data é a tupla de dados de validação\n",
    "\n",
    "\n",
    "# resultado_dict contém as métricas de treinamento e validação\n",
    "resultado_dict = resultado.history\n",
    "\n",
    "# Salvando o modelo treinado\n",
    "ReutersModel.save('C:/Users/quint/Projetos/lia1_2024_2/Entregas - Diogo de Paula Quintão/Reuters/modelo.h5')"
   ]
  },
  {
   "cell_type": "markdown",
   "metadata": {},
   "source": [
    "Treinamento concluído com sucesso! 💪 Observe se ao final de cada época a acurácia aumenta."
   ]
  },
  {
   "cell_type": "markdown",
   "metadata": {},
   "source": [
    "Gráfico do modelo"
   ]
  },
  {
   "cell_type": "code",
   "execution_count": 151,
   "metadata": {},
   "outputs": [
    {
     "data": {
      "image/png": "[encoded data removed]",
      "text/plain": [
       "<Figure size 640x480 with 1 Axes>"
      ]
     },
     "metadata": {},
     "output_type": "display_data"
    }
   ],
   "source": [
    "# Plotando o gráfico de perda\n",
    "training_loss = resultado_dict['loss']\n",
    "validation_loss = resultado_dict['val_loss']\n",
    "trainging_accuracy = resultado_dict['accuracy']\n",
    "validation_accuracy = resultado_dict['val_accuracy']\n",
    "epochs = range(1, len(training_loss) + 1)\n",
    "\n",
    "# Gráfico de perda\n",
    "plt.plot(epochs, training_loss, 'bo', label='Training loss')\n",
    "plt.plot(epochs, validation_loss, 'b', label='Validation loss')\n",
    "plt.title('Training and validation loss')\n",
    "plt.xlabel('Epochs')\n",
    "plt.ylabel('Loss')\n",
    "plt.legend()\n",
    "plt.show()"
   ]
  },
  {
   "cell_type": "code",
   "execution_count": 152,
   "metadata": {},
   "outputs": [
    {
     "data": {
      "image/png": "[encoded data removed]",
      "text/plain": [
       "<Figure size 640x480 with 1 Axes>"
      ]
     },
     "metadata": {},
     "output_type": "display_data"
    }
   ],
   "source": [
    "# Gráfico de acurácia\n",
    "plt.plot(epochs, trainging_accuracy, 'bo', label='Training accuracy')\n",
    "plt.plot(epochs, validation_accuracy, 'b', label='Validation accuracy')\n",
    "plt.title('Training and validation accuracy')\n",
    "plt.xlabel('Epochs')    \n",
    "plt.ylabel('Accuracy')  \n",
    "plt.legend()\n",
    "plt.show()"
   ]
  },
  {
   "cell_type": "code",
   "execution_count": 153,
   "metadata": {},
   "outputs": [
    {
     "name": "stdout",
     "output_type": "stream",
     "text": [
      "\u001b[1m71/71\u001b[0m \u001b[32m━━━━━━━━━━━━━━━━━━━━\u001b[0m\u001b[37m\u001b[0m \u001b[1m0s\u001b[0m 2ms/step - accuracy: 0.7829 - loss: 0.9420\n",
      "Test accuracy: 0.7729296684265137\n",
      "Test loss: 0.9690940380096436\n"
     ]
    }
   ],
   "source": [
    "# Avaliar o desempenho do modelo nos dados de teste\n",
    "# Isso retornará a perda e a precisão do modelo no conjunto de dados de teste\n",
    "loss, accuracy = ReutersModel.evaluate(X_test, Y_test)\n",
    "print('Test accuracy:', accuracy)\n",
    "print('Test loss:', loss)"
   ]
  },
  {
   "cell_type": "markdown",
   "metadata": {},
   "source": [
    "**Teste do modelo**"
   ]
  },
  {
   "cell_type": "code",
   "execution_count": 154,
   "metadata": {},
   "outputs": [
    {
     "name": "stdout",
     "output_type": "stream",
     "text": [
      "\u001b[1m71/71\u001b[0m \u001b[32m━━━━━━━━━━━━━━━━━━━━\u001b[0m\u001b[37m\u001b[0m \u001b[1m0s\u001b[0m 3ms/step\n",
      "Notícia 1:\n",
      "Classe verdadeira: 3\n",
      "Classe prevista: 3\n",
      "\n",
      "Notícia 2:\n",
      "Classe verdadeira: 10\n",
      "Classe prevista: 10\n",
      "\n",
      "Notícia 3:\n",
      "Classe verdadeira: 1\n",
      "Classe prevista: 1\n",
      "\n",
      "Notícia 4:\n",
      "Classe verdadeira: 4\n",
      "Classe prevista: 4\n",
      "\n",
      "Notícia 5:\n",
      "Classe verdadeira: 4\n",
      "Classe prevista: 13\n",
      "\n",
      "Notícia 6:\n",
      "Classe verdadeira: 3\n",
      "Classe prevista: 3\n",
      "\n",
      "Notícia 7:\n",
      "Classe verdadeira: 3\n",
      "Classe prevista: 3\n",
      "\n",
      "Notícia 8:\n",
      "Classe verdadeira: 3\n",
      "Classe prevista: 3\n",
      "\n",
      "Notícia 9:\n",
      "Classe verdadeira: 3\n",
      "Classe prevista: 3\n",
      "\n",
      "Notícia 10:\n",
      "Classe verdadeira: 3\n",
      "Classe prevista: 3\n",
      "\n"
     ]
    }
   ],
   "source": [
    "# Fazer previsões no conjunto de dados de teste\n",
    "predictions = ReutersModel.predict(X_test)\n",
    "# As previsões retornam uma probabilidade para cada classe, então pegamos a classe com maior probabilidade\n",
    "predicted_classes = np.argmax(predictions, axis=1)\n",
    "\n",
    "# Exibir as previsões para as primeiras 10 notícias de teste\n",
    "# np.argmax(Y_test[i]) é a classe verdadeira, enquanto predicted_classes[i] é a classe prevista\n",
    "for i in range(10):\n",
    "    print(f'Notícia {i+1}:')\n",
    "    print(f'Classe verdadeira: {np.argmax(Y_test[i])}')\n",
    "    print(f'Classe prevista: {predicted_classes[i]}')\n",
    "    print()"
   ]
  }
 ],
 "metadata": {
  "kernelspec": {
   "display_name": ".venv",
   "language": "python",
   "name": "python3"
  },
  "language_info": {
   "codemirror_mode": {
    "name": "ipython",
    "version": 3
   },
   "file_extension": ".py",
   "mimetype": "text/x-python",
   "name": "python",
   "nbconvert_exporter": "python",
   "pygments_lexer": "ipython3",
   "version": "3.10.11"
  }
 },
 "nbformat": 4,
 "nbformat_minor": 2
}
