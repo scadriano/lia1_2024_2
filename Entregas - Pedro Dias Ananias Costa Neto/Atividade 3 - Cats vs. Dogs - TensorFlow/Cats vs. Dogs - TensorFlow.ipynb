{
 "cells": [
  {
   "cell_type": "code",
   "execution_count": 365,
   "metadata": {},
   "outputs": [],
   "source": [
    "import tensorflow as tf"
   ]
  },
  {
   "cell_type": "code",
   "execution_count": 366,
   "metadata": {},
   "outputs": [],
   "source": [
    "import keras as K"
   ]
  },
  {
   "cell_type": "code",
   "execution_count": 367,
   "metadata": {},
   "outputs": [],
   "source": [
    "# Importar K e suas funções necessárias\n",
    "from keras.models import Sequential\n",
    "from keras.layers import Conv2D\n",
    "from keras.layers import MaxPooling2D\n",
    "from keras.layers import Flatten\n",
    "from keras.layers import Dense\n",
    "from keras.layers import Dropout"
   ]
  },
  {
   "cell_type": "code",
   "execution_count": 368,
   "metadata": {},
   "outputs": [],
   "source": [
    "# Inicializando a Rede Neural Convolucional\n",
    "classifier = Sequential()"
   ]
  },
  {
   "cell_type": "code",
   "execution_count": 369,
   "metadata": {},
   "outputs": [],
   "source": [
    "from tensorflow.keras.optimizers import Adam\n",
    "\n",
    "# 32 features; formato 3x3; Imagens 64x64; Array 3D (RGB).\n",
    "\n",
    "# Adicionando a Primeira Camada de Convolução\n",
    "classifier.add(Conv2D(32, (3, 3), input_shape = (256, 256, 3), activation = 'relu'))\n",
    "\n",
    "# Pooling\n",
    "classifier.add(MaxPooling2D(pool_size = (4, 4)))\n",
    "\n",
    "# Adicionando a Segunda Camada de Convolução\n",
    "classifier.add(Conv2D(32, (3, 3), activation = 'relu'))\n",
    "\n",
    "# Pooling\n",
    "classifier.add(MaxPooling2D(pool_size = (2, 2)))\n",
    "\n",
    "# Convolução mais complexa\n",
    "classifier.add(Conv2D(64, (3, 3), activation = 'relu'))\n",
    "classifier.add(MaxPooling2D(pool_size = (2, 2)))\n",
    "\n",
    "# Adicionando Dropout\n",
    "classifier.add(Dropout(0.1))\n",
    "\n",
    "# Flattening - Transformando em 1D\n",
    "classifier.add(Flatten())\n",
    "\n",
    "# Full connection\n",
    "classifier.add(Dense(units = 128, activation = 'relu'))\n",
    "classifier.add(Dense(units = 1, activation = 'sigmoid'))\n",
    "\n",
    "# Compilando a rede\n",
    "classifier.compile(optimizer = Adam(learning_rate=0.0001), loss = 'binary_crossentropy', metrics = ['accuracy'])"
   ]
  },
  {
   "cell_type": "code",
   "execution_count": 370,
   "metadata": {},
   "outputs": [],
   "source": [
    "from tensorflow.keras.preprocessing.image import ImageDataGenerator\n",
    "\n",
    "# Criar o objeto com as regras de pré-processamento\n",
    "train_datagen = ImageDataGenerator(rescale = 1./255,\n",
    "                                   shear_range = 0.2,\n",
    "                                   zoom_range = 0.2,\n",
    "                                   horizontal_flip = True,\n",
    "                                   rotation_range=40,  # Rotaciona as imagens\n",
    "                                   width_shift_range=0.2,  # Deslocamento horizontal\n",
    "                                   height_shift_range=0.2)  # Deslocamento vertical)"
   ]
  },
  {
   "cell_type": "code",
   "execution_count": 371,
   "metadata": {},
   "outputs": [
    {
     "name": "stdout",
     "output_type": "stream",
     "text": [
      "Found 25000 images belonging to 2 classes.\n"
     ]
    }
   ],
   "source": [
    "# Pré-processamento das imagens de treino\n",
    "training_set = train_datagen.flow_from_directory('C:/Users/peter/OneDrive/Trabalhos/2024/Tópicos em Engenharia da Computação/dogs-vs-cats/train',\n",
    "                                                 target_size = (256, 256),\n",
    "                                                 batch_size = 64,\n",
    "                                                 class_mode = 'binary')"
   ]
  },
  {
   "cell_type": "code",
   "execution_count": 372,
   "metadata": {},
   "outputs": [
    {
     "name": "stdout",
     "output_type": "stream",
     "text": [
      "Epoch 1/15\n",
      "15/15 [==============================] - 29s 2s/step - loss: 0.7048 - accuracy: 0.4979\n",
      "Epoch 2/15\n",
      "15/15 [==============================] - 27s 2s/step - loss: 0.6932 - accuracy: 0.4917\n",
      "Epoch 3/15\n",
      "15/15 [==============================] - 28s 2s/step - loss: 0.6894 - accuracy: 0.5510\n",
      "Epoch 4/15\n",
      "15/15 [==============================] - 28s 2s/step - loss: 0.6855 - accuracy: 0.5542\n",
      "Epoch 5/15\n",
      "15/15 [==============================] - 27s 2s/step - loss: 0.6903 - accuracy: 0.5417\n",
      "Epoch 6/15\n",
      "15/15 [==============================] - 27s 2s/step - loss: 0.6839 - accuracy: 0.5583\n",
      "Epoch 7/15\n",
      "15/15 [==============================] - 27s 2s/step - loss: 0.6726 - accuracy: 0.5729\n",
      "Epoch 8/15\n",
      "15/15 [==============================] - 27s 2s/step - loss: 0.6727 - accuracy: 0.5802\n",
      "Epoch 9/15\n",
      "15/15 [==============================] - 27s 2s/step - loss: 0.6682 - accuracy: 0.5771\n",
      "Epoch 10/15\n",
      "15/15 [==============================] - 26s 2s/step - loss: 0.6567 - accuracy: 0.6036\n",
      "Epoch 11/15\n",
      "15/15 [==============================] - 28s 2s/step - loss: 0.6453 - accuracy: 0.6406\n",
      "Epoch 12/15\n",
      "15/15 [==============================] - 27s 2s/step - loss: 0.6472 - accuracy: 0.6104\n",
      "Epoch 13/15\n",
      "15/15 [==============================] - 28s 2s/step - loss: 0.6376 - accuracy: 0.6125\n",
      "Epoch 14/15\n",
      "15/15 [==============================] - 28s 2s/step - loss: 0.6562 - accuracy: 0.5948\n",
      "Epoch 15/15\n",
      "15/15 [==============================] - 26s 2s/step - loss: 0.6390 - accuracy: 0.6421\n"
     ]
    },
    {
     "data": {
      "text/plain": [
       "<keras.src.callbacks.History at 0x27186728ee0>"
      ]
     },
     "execution_count": 372,
     "metadata": {},
     "output_type": "execute_result"
    }
   ],
   "source": [
    "# Executando o treinamento'\n",
    "classifier.fit(training_set,\n",
    "               steps_per_epoch=15,\n",
    "               epochs=15)"
   ]
  },
  {
   "cell_type": "code",
   "execution_count": 377,
   "metadata": {},
   "outputs": [
    {
     "name": "stdout",
     "output_type": "stream",
     "text": [
      "1/1 [==============================] - 0s 72ms/step\n",
      "Valor bruto: [[0.60879]]\n",
      "Previsão: Cachorro.\n",
      "Acurácia: 60.88 %.\n"
     ]
    },
    {
     "data": {
      "image/jpeg": "[encoded data removed]",
      "text/plain": [
       "<IPython.core.display.Image object>"
      ]
     },
     "execution_count": 377,
     "metadata": {},
     "output_type": "execute_result"
    }
   ],
   "source": [
    "import numpy as np\n",
    "from keras.preprocessing import image\n",
    "from IPython.display import Image\n",
    "\n",
    "# Carregando a imagem de teste\n",
    "test_image = image.load_img('C:/Users/peter/OneDrive/Trabalhos/2024/Tópicos em Engenharia da Computação/dogs-vs-cats/test1/test1/920.jpg', target_size=(256, 256))\n",
    "test_image = image.img_to_array(test_image) / 255\n",
    "test_image = np.expand_dims(test_image, axis=0)\n",
    "\n",
    "# Fazendo a previsão usando o modelo classifier\n",
    "result = classifier.predict(test_image)\n",
    "class_indices = training_set.class_indices\n",
    "\n",
    "print(\"Valor bruto:\", result)\n",
    "\n",
    "if result[0][0] >= 0.5:\n",
    "    prediction = 'Cachorro.'\n",
    "    accuracy = round(result[0][0] * 100, 2)  # A saída de previsão é uma probabilidade entre 0 e 1\n",
    "else:\n",
    "    prediction = 'Gato.'\n",
    "    accuracy = round((1 - result[0][0]) * 100, 2)  # A saída de previsão é uma probabilidade entre 0 e 1\n",
    "\n",
    "# Exibindo a previsão e a acurácia\n",
    "print(\"Previsão:\", prediction)\n",
    "print(\"Acurácia:\", accuracy, \"%.\")\n",
    "\n",
    "# Exibindo a imagem\n",
    "Image(filename='C:/Users/peter/OneDrive/Trabalhos/2024/Tópicos em Engenharia da Computação/dogs-vs-cats/test1/test1/920.jpg')\n"
   ]
  },
  {
   "cell_type": "code",
   "execution_count": 374,
   "metadata": {},
   "outputs": [
    {
     "name": "stdout",
     "output_type": "stream",
     "text": [
      "Número de imagens de cachorros: 12501\n",
      "Número de imagens de gatos: 12501\n"
     ]
    }
   ],
   "source": [
    "import os\n",
    "\n",
    "base_dir = 'C:/Users/peter/OneDrive/Trabalhos/2024/Tópicos em Engenharia da Computação/dogs-vs-cats/train'\n",
    "print('Número de imagens de cachorros:', len(os.listdir(os.path.join(base_dir, 'train-dogs'))))\n",
    "print('Número de imagens de gatos:', len(os.listdir(os.path.join(base_dir, 'train-cats'))))"
   ]
  },
  {
   "cell_type": "code",
   "execution_count": 375,
   "metadata": {},
   "outputs": [
    {
     "name": "stdout",
     "output_type": "stream",
     "text": [
      "{'train-cats': 0, 'train-dogs': 1}\n"
     ]
    }
   ],
   "source": [
    "print(training_set.class_indices)"
   ]
  }
 ],
 "metadata": {
  "kernelspec": {
   "display_name": "env_keras",
   "language": "python",
   "name": "python3"
  },
  "language_info": {
   "codemirror_mode": {
    "name": "ipython",
    "version": 3
   },
   "file_extension": ".py",
   "mimetype": "text/x-python",
   "name": "python",
   "nbconvert_exporter": "python",
   "pygments_lexer": "ipython3",
   "version": "3.8.0"
  }
 },
 "nbformat": 4,
 "nbformat_minor": 2
}
