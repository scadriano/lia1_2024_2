{
  "cells": [
    {
      "cell_type": "markdown",
      "metadata": {
        "id": "Hu5OLDcwuSoe"
      },
      "source": [
        "# **Construindo um Modelo com Tensorflow -  🐶 🐱!**\n",
        "\n",
        "**Problema: uma imagem, dizer se é um dog ou um cat.**\n",
        "\n",
        "Computer Vision; Deep Learning; Machine Learning; Artificial Inteligence! Nada disso faz sentido sem dados, muitos dados (Big Data! 🚀). Para isso, teremos:\n",
        "\n",
        "* **Treinamento**: 25.000 imagens nomeadas: 12.500 de dogs e 12.500 de cats.\n",
        "* **Teste**: 1.000 imagens de dogs e cats.\n",
        "\n",
        "Usa-se os dados de treino para treinar o algoritmo e então criar o modelo preditivo. Usa-se os dados de teste para confirmar o desempenho do modelo preditivo já treinado, ou seja, apresenta-se ao modelo preditivo dados que ele não viu durante o treinamento, a fim de garantir que ele seja capaz de fazer previsões.\n",
        "\n",
        "Por fim, o modelo de duas camadas de convolução seguidas de pooling, a camada de flattening, e as camadas totalmente conectadas (Dense), com a função de ativação sigmoid para a saída binária.\n",
        "\n",
        "**Não há mágica. Há matemática!** 🧙"
      ]
    },
    {
      "cell_type": "markdown",
      "metadata": {
        "id": "Rv1N0nRuxwL-"
      },
      "source": [
        "**Fonte de dados**\n",
        "\n",
        "O Kaggle oferece diversos datasets públicos que podem ser usados para você desenvolver seus projetos e incluir no seu portfólio, uma excelente forma de demonstrar suas habilidades em Data Science e Machine Learning. Usaremos como fonte de dados, o famoso [dataset Dogs and Cats](https://www.kaggle.com/c/dogs-vs-cats/data)."
      ]
    },
    {
      "cell_type": "markdown",
      "metadata": {
        "id": "B80jFLJAym_v"
      },
      "source": [
        "**Carregando os dados de Treino e Teste**"
      ]
    },
    {
      "cell_type": "code",
      "execution_count": 2,
      "metadata": {
        "id": "wD9uqxNTtumI"
      },
      "outputs": [],
      "source": [
        "from IPython.display import Image"
      ]
    },
    {
      "cell_type": "markdown",
      "metadata": {
        "id": "eN2T6cv24Y6A"
      },
      "source": [
        "**Construindo a Rede Neural Convolucional**\n",
        "\n",
        "O Keras é uma biblioteca do TensorFlow."
      ]
    },
    {
      "cell_type": "code",
      "execution_count": 3,
      "metadata": {
        "id": "LNpCfaa8NfdY"
      },
      "outputs": [],
      "source": [
        "import tensorflow as tf"
      ]
    },
    {
      "cell_type": "code",
      "execution_count": 4,
      "metadata": {
        "id": "eb0TUqkQNjaI"
      },
      "outputs": [],
      "source": [
        "\n",
        "import keras as K"
      ]
    },
    {
      "cell_type": "code",
      "execution_count": 5,
      "metadata": {
        "id": "XJldwmiJ4hHA"
      },
      "outputs": [],
      "source": [
        "\n",
        "# Importar K e suas funções necessárias\n",
        "from keras.models import Sequential\n",
        "from keras.layers import Conv2D\n",
        "from keras.layers import MaxPooling2D\n",
        "from keras.layers import Flatten\n",
        "from keras.layers import Dense"
      ]
    },
    {
      "cell_type": "code",
      "execution_count": 6,
      "metadata": {
        "id": "MYZrHMd85PqQ"
      },
      "outputs": [],
      "source": [
        "# Inicializando a Rede Neural Convolucional\n",
        "classifier = Sequential()"
      ]
    },
    {
      "cell_type": "code",
      "execution_count": 7,
      "metadata": {
        "colab": {
          "base_uri": "https://localhost:8080/"
        },
        "id": "FrympYJ96BWg",
        "outputId": "a2df101f-577f-41a8-9c65-f864817be1bf"
      },
      "outputs": [
        {
          "name": "stderr",
          "output_type": "stream",
          "text": [
            "c:\\Users\\art-g\\anaconda3\\Lib\\site-packages\\keras\\src\\layers\\convolutional\\base_conv.py:107: UserWarning: Do not pass an `input_shape`/`input_dim` argument to a layer. When using Sequential models, prefer using an `Input(shape)` object as the first layer in the model instead.\n",
            "  super().__init__(activity_regularizer=activity_regularizer, **kwargs)\n"
          ]
        }
      ],
      "source": [
        "# 32 features; formato 3x3; Imagens 64x64; Array 3D (RGB).\n",
        "\n",
        "# Adicionando a Primeira Camada de Convolução\n",
        "classifier.add(Conv2D(32, (3, 3), input_shape = (256, 256, 3), activation = 'relu'))\n",
        "\n",
        "# Pooling\n",
        "classifier.add(MaxPooling2D(pool_size = (2, 2)))\n",
        "\n",
        "# Adicionando a Segunda Camada de Convolução\n",
        "classifier.add(Conv2D(32, (3, 3), activation = 'relu'))\n",
        "\n",
        "# Pooling\n",
        "classifier.add(MaxPooling2D(pool_size = (2, 2)))\n",
        "\n",
        "# Adicionando a TERCEIRA Camada de Convolução\n",
        "classifier.add(Conv2D(32, (3, 3), activation = 'relu'))\n",
        "\n",
        "# Pooling\n",
        "classifier.add(MaxPooling2D(pool_size = (2, 2)))\n",
        "\n",
        "# Flattening - Transformando em 1D\n",
        "classifier.add(Flatten())\n",
        "\n",
        "# Full connection\n",
        "classifier.add(Dense(units = 128, activation = 'relu'))\n",
        "classifier.add(Dense(units = 1, activation = 'sigmoid'))\n",
        "\n",
        "# Compilando a rede\n",
        "classifier.compile(optimizer = 'adam', loss = 'binary_crossentropy', metrics = ['accuracy'])"
      ]
    },
    {
      "cell_type": "markdown",
      "metadata": {
        "id": "C1l-VgZ78NNS"
      },
      "source": [
        "**Pré-processamento**\n",
        "\n",
        "Fazer pré-processamento nos dados, em nosso caso as imagens."
      ]
    },
    {
      "cell_type": "code",
      "execution_count": 8,
      "metadata": {
        "id": "T8au9i8V7mDZ"
      },
      "outputs": [],
      "source": [
        "from tensorflow.keras.preprocessing.image import ImageDataGenerator\n",
        "\n",
        "# Criar o objeto com as regras de pré-processamento\n",
        "train_datagen = ImageDataGenerator(\n",
        "    rescale=1./255,\n",
        "    shear_range=0.2,\n",
        "    zoom_range=0.2,\n",
        "    horizontal_flip=True,\n",
        "    rotation_range=30,  # Adiciona rotação\n",
        "    width_shift_range=0.1,  # Deslocamento horizontal\n",
        "    height_shift_range=0.1,  # Deslocamento vertical\n",
        "    fill_mode='nearest'  # Preencher pixels ausentes\n",
        ")"
      ]
    },
    {
      "cell_type": "code",
      "execution_count": 9,
      "metadata": {
        "colab": {
          "base_uri": "https://localhost:8080/"
        },
        "id": "BLiOSL6h7vAI",
        "outputId": "5d332ac7-5f25-40df-e0a0-10d912e53ab6"
      },
      "outputs": [
        {
          "name": "stdout",
          "output_type": "stream",
          "text": [
            "Found 14002 images belonging to 2 classes.\n"
          ]
        }
      ],
      "source": [
        "# Pré-processamento das imagens de treino\n",
        "training_set = train_datagen.flow_from_directory(r'G:\\Meu Drive\\.UFG\\Semestre Atual\\LIA\\Livros e Material\\3. Projeto TF Dogs Cats\\Dados\\dogs-vs-cats\\train',\n",
        "                                                 target_size = (256, 256),\n",
        "                                                 batch_size = 64,\n",
        "                                                 class_mode = 'binary')"
      ]
    },
    {
      "cell_type": "markdown",
      "metadata": {
        "id": "ephZE1Y59LKq"
      },
      "source": [
        "**Treinamento do Modelo**"
      ]
    },
    {
      "cell_type": "code",
      "execution_count": 10,
      "metadata": {
        "colab": {
          "base_uri": "https://localhost:8080/"
        },
        "id": "3KVRGudo9No6",
        "outputId": "e6557321-07e8-466f-b6be-c2dda104b3f0"
      },
      "outputs": [
        {
          "name": "stdout",
          "output_type": "stream",
          "text": [
            "Epoch 1/25\n"
          ]
        },
        {
          "name": "stderr",
          "output_type": "stream",
          "text": [
            "c:\\Users\\art-g\\anaconda3\\Lib\\site-packages\\keras\\src\\trainers\\data_adapters\\py_dataset_adapter.py:122: UserWarning: Your `PyDataset` class should call `super().__init__(**kwargs)` in its constructor. `**kwargs` can include `workers`, `use_multiprocessing`, `max_queue_size`. Do not pass these arguments to `fit()`, as they will be ignored.\n",
            "  self._warn_if_super_not_called()\n"
          ]
        },
        {
          "name": "stdout",
          "output_type": "stream",
          "text": [
            "\u001b[1m5/5\u001b[0m \u001b[32m━━━━━━━━━━━━━━━━━━━━\u001b[0m\u001b[37m\u001b[0m \u001b[1m51s\u001b[0m 4s/step - accuracy: 0.5427 - loss: 1.2185\n",
            "Epoch 2/25\n",
            "\u001b[1m5/5\u001b[0m \u001b[32m━━━━━━━━━━━━━━━━━━━━\u001b[0m\u001b[37m\u001b[0m \u001b[1m20s\u001b[0m 4s/step - accuracy: 0.4729 - loss: 0.7351\n",
            "Epoch 3/25\n",
            "\u001b[1m5/5\u001b[0m \u001b[32m━━━━━━━━━━━━━━━━━━━━\u001b[0m\u001b[37m\u001b[0m \u001b[1m20s\u001b[0m 4s/step - accuracy: 0.5146 - loss: 0.6902\n",
            "Epoch 4/25\n",
            "\u001b[1m5/5\u001b[0m \u001b[32m━━━━━━━━━━━━━━━━━━━━\u001b[0m\u001b[37m\u001b[0m \u001b[1m20s\u001b[0m 4s/step - accuracy: 0.4999 - loss: 0.6947\n",
            "Epoch 5/25\n",
            "\u001b[1m5/5\u001b[0m \u001b[32m━━━━━━━━━━━━━━━━━━━━\u001b[0m\u001b[37m\u001b[0m \u001b[1m20s\u001b[0m 4s/step - accuracy: 0.5359 - loss: 0.6864\n",
            "Epoch 6/25\n",
            "\u001b[1m5/5\u001b[0m \u001b[32m━━━━━━━━━━━━━━━━━━━━\u001b[0m\u001b[37m\u001b[0m \u001b[1m21s\u001b[0m 4s/step - accuracy: 0.5426 - loss: 0.6876\n",
            "Epoch 7/25\n",
            "\u001b[1m5/5\u001b[0m \u001b[32m━━━━━━━━━━━━━━━━━━━━\u001b[0m\u001b[37m\u001b[0m \u001b[1m20s\u001b[0m 4s/step - accuracy: 0.5688 - loss: 0.6847\n",
            "Epoch 8/25\n",
            "\u001b[1m5/5\u001b[0m \u001b[32m━━━━━━━━━━━━━━━━━━━━\u001b[0m\u001b[37m\u001b[0m \u001b[1m29s\u001b[0m 6s/step - accuracy: 0.4907 - loss: 0.7086\n",
            "Epoch 9/25\n",
            "\u001b[1m5/5\u001b[0m \u001b[32m━━━━━━━━━━━━━━━━━━━━\u001b[0m\u001b[37m\u001b[0m \u001b[1m28s\u001b[0m 5s/step - accuracy: 0.4938 - loss: 0.6881\n",
            "Epoch 10/25\n",
            "\u001b[1m5/5\u001b[0m \u001b[32m━━━━━━━━━━━━━━━━━━━━\u001b[0m\u001b[37m\u001b[0m \u001b[1m29s\u001b[0m 6s/step - accuracy: 0.5622 - loss: 0.6916\n",
            "Epoch 11/25\n",
            "\u001b[1m5/5\u001b[0m \u001b[32m━━━━━━━━━━━━━━━━━━━━\u001b[0m\u001b[37m\u001b[0m \u001b[1m22s\u001b[0m 4s/step - accuracy: 0.5579 - loss: 0.6897\n",
            "Epoch 12/25\n",
            "\u001b[1m5/5\u001b[0m \u001b[32m━━━━━━━━━━━━━━━━━━━━\u001b[0m\u001b[37m\u001b[0m \u001b[1m21s\u001b[0m 4s/step - accuracy: 0.5113 - loss: 0.6950\n",
            "Epoch 13/25\n",
            "\u001b[1m5/5\u001b[0m \u001b[32m━━━━━━━━━━━━━━━━━━━━\u001b[0m\u001b[37m\u001b[0m \u001b[1m20s\u001b[0m 4s/step - accuracy: 0.5084 - loss: 0.6932\n",
            "Epoch 14/25\n",
            "\u001b[1m5/5\u001b[0m \u001b[32m━━━━━━━━━━━━━━━━━━━━\u001b[0m\u001b[37m\u001b[0m \u001b[1m21s\u001b[0m 4s/step - accuracy: 0.5885 - loss: 0.6913\n",
            "Epoch 15/25\n",
            "\u001b[1m5/5\u001b[0m \u001b[32m━━━━━━━━━━━━━━━━━━━━\u001b[0m\u001b[37m\u001b[0m \u001b[1m20s\u001b[0m 4s/step - accuracy: 0.5757 - loss: 0.6895\n",
            "Epoch 16/25\n",
            "\u001b[1m5/5\u001b[0m \u001b[32m━━━━━━━━━━━━━━━━━━━━\u001b[0m\u001b[37m\u001b[0m \u001b[1m21s\u001b[0m 4s/step - accuracy: 0.5822 - loss: 0.6850\n",
            "Epoch 17/25\n",
            "\u001b[1m5/5\u001b[0m \u001b[32m━━━━━━━━━━━━━━━━━━━━\u001b[0m\u001b[37m\u001b[0m \u001b[1m19s\u001b[0m 4s/step - accuracy: 0.4984 - loss: 0.6898\n",
            "Epoch 18/25\n",
            "\u001b[1m5/5\u001b[0m \u001b[32m━━━━━━━━━━━━━━━━━━━━\u001b[0m\u001b[37m\u001b[0m \u001b[1m19s\u001b[0m 4s/step - accuracy: 0.5941 - loss: 0.6822\n",
            "Epoch 19/25\n",
            "\u001b[1m5/5\u001b[0m \u001b[32m━━━━━━━━━━━━━━━━━━━━\u001b[0m\u001b[37m\u001b[0m \u001b[1m20s\u001b[0m 4s/step - accuracy: 0.5191 - loss: 0.6884\n",
            "Epoch 20/25\n",
            "\u001b[1m5/5\u001b[0m \u001b[32m━━━━━━━━━━━━━━━━━━━━\u001b[0m\u001b[37m\u001b[0m \u001b[1m20s\u001b[0m 4s/step - accuracy: 0.5569 - loss: 0.6845\n",
            "Epoch 21/25\n",
            "\u001b[1m5/5\u001b[0m \u001b[32m━━━━━━━━━━━━━━━━━━━━\u001b[0m\u001b[37m\u001b[0m \u001b[1m20s\u001b[0m 4s/step - accuracy: 0.5663 - loss: 0.6831\n",
            "Epoch 22/25\n",
            "\u001b[1m5/5\u001b[0m \u001b[32m━━━━━━━━━━━━━━━━━━━━\u001b[0m\u001b[37m\u001b[0m \u001b[1m18s\u001b[0m 4s/step - accuracy: 0.6058 - loss: 0.6818\n",
            "Epoch 23/25\n",
            "\u001b[1m5/5\u001b[0m \u001b[32m━━━━━━━━━━━━━━━━━━━━\u001b[0m\u001b[37m\u001b[0m \u001b[1m20s\u001b[0m 4s/step - accuracy: 0.5194 - loss: 0.6938\n",
            "Epoch 24/25\n",
            "\u001b[1m5/5\u001b[0m \u001b[32m━━━━━━━━━━━━━━━━━━━━\u001b[0m\u001b[37m\u001b[0m \u001b[1m20s\u001b[0m 4s/step - accuracy: 0.5374 - loss: 0.6845\n",
            "Epoch 25/25\n",
            "\u001b[1m5/5\u001b[0m \u001b[32m━━━━━━━━━━━━━━━━━━━━\u001b[0m\u001b[37m\u001b[0m \u001b[1m19s\u001b[0m 4s/step - accuracy: 0.5415 - loss: 0.6849\n"
          ]
        },
        {
          "data": {
            "text/plain": [
              "<keras.src.callbacks.history.History at 0x1b8408c9990>"
            ]
          },
          "execution_count": 10,
          "metadata": {},
          "output_type": "execute_result"
        }
      ],
      "source": [
        "# Executando o treinamento\n",
        "classifier.fit(training_set,\n",
        "               steps_per_epoch=5,\n",
        "               epochs=25)"
      ]
    },
    {
      "cell_type": "markdown",
      "metadata": {
        "id": "dl1MFhzd9aph"
      },
      "source": [
        "Treinamento concluído com sucesso! 💪 Observe se ao final de cada época a acurácia aumenta."
      ]
    },
    {
      "cell_type": "markdown",
      "metadata": {
        "id": "4OIAQ0GU-WrK"
      },
      "source": [
        "**Teste do Modelo**"
      ]
    },
    {
      "cell_type": "markdown",
      "metadata": {
        "id": "KQYol5tb-ejq"
      },
      "source": [
        "Testar o modelo treinado com imagens que ele ainda não viu. Por fim, verificamos o resultado da previsão e emitimos a informação se a imagem é de um gato ou cachorro."
      ]
    },
    {
      "cell_type": "code",
      "execution_count": 12,
      "metadata": {
        "colab": {
          "base_uri": "https://localhost:8080/",
          "height": 412
        },
        "id": "xthzuIX_IkU_",
        "outputId": "194a933a-4b6c-4fa6-a06a-c7486953e6c7"
      },
      "outputs": [
        {
          "name": "stdout",
          "output_type": "stream",
          "text": [
            "\u001b[1m1/1\u001b[0m \u001b[32m━━━━━━━━━━━━━━━━━━━━\u001b[0m\u001b[37m\u001b[0m \u001b[1m0s\u001b[0m 47ms/step\n",
            "Previsão: Cachorro.\n",
            "Acurácia: 100.0 %.\n"
          ]
        },
        {
          "data": {
            "image/jpeg": "[encoded data removed]",
            "text/plain": [
              "<IPython.core.display.Image object>"
            ]
          },
          "execution_count": 12,
          "metadata": {},
          "output_type": "execute_result"
        }
      ],
      "source": [
        "import numpy as np\n",
        "from keras.preprocessing import image\n",
        "from IPython.display import Image\n",
        "\n",
        "# Carregando a imagem de teste\n",
        "test_image = image.load_img(r'G:\\Meu Drive\\.UFG\\Semestre Atual\\LIA\\Livros e Material\\3. Projeto TF Dogs Cats\\Dados\\dogs-vs-cats\\test\\86.jpg', target_size=(256, 256))\n",
        "test_image = image.img_to_array(test_image)\n",
        "test_image = np.expand_dims(test_image, axis=0)\n",
        "\n",
        "# Fazendo a previsão usando o modelo classifier\n",
        "result = classifier.predict(test_image)\n",
        "class_indices = training_set.class_indices\n",
        "\n",
        "if result[0][0] == 1:\n",
        "    prediction = 'Cachorro.'\n",
        "    accuracy = round(result[0][0] * 100, 2)  # A saída de previsão é uma probabilidade entre 0 e 1\n",
        "else:\n",
        "    prediction = 'Gato.'\n",
        "    accuracy = round((1 - result[0][0]) * 100, 2)  # A saída de previsão é uma probabilidade entre 0 e 1\n",
        "\n",
        "# Exibindo a previsão e a acurácia\n",
        "print(\"Previsão:\", prediction)\n",
        "print(\"Acurácia:\", accuracy, \"%.\")\n",
        "\n",
        "# Exibindo a imagem\n",
        "Image(filename=r'G:\\Meu Drive\\.UFG\\Semestre Atual\\LIA\\Livros e Material\\3. Projeto TF Dogs Cats\\Dados\\dogs-vs-cats\\test\\86.jpg')\n"
      ]
    },
    {
      "cell_type": "markdown",
      "metadata": {
        "id": "goRr2pHz-qrp"
      },
      "source": [
        "**O modelo recebeu uma imagem que nunca tinha visto antes e com base no que aprendeu durante o treinamento, foi capaz de classificar.**\n",
        "\n",
        "Convertemos a imagem de teste em um vetor de pixels e apresentamos ao modelo.\n",
        "O modelo compara o vetor da imagem de teste com seus pesos e então emite a classificação."
      ]
    },
    {
      "cell_type": "markdown",
      "metadata": {
        "id": "IfsCG3KP9kwr"
      },
      "source": [
        "**Melhorias adicionais para este modelo:**\n",
        "\n",
        "*   Aumentar o número de épocas para 25 para uma aprendizagem mais profunda.\n",
        "*   aumentar o redimensionamento da imagem de 64x64 para 256x256.\n",
        "*   Aumentar o tamanho do lote de 32 para 64.\n",
        "*   Alterar a arquitetura da rede incluindo mais uma camada convolucional.\n",
        "*   Avaliar outras métricas do modelo e ajustar os hiperparâmetros de acordo.\n",
        "*   Experimentar outros algoritmos de otimização.\n",
        "\n",
        "\n",
        "\n",
        "\n",
        "\n",
        "\n"
      ]
    },
    {
      "cell_type": "markdown",
      "metadata": {
        "id": "qWz1StcE-MZz"
      },
      "source": [
        "Fim! 🔥"
      ]
    }
  ],
  "metadata": {
    "accelerator": "GPU",
    "colab": {
      "gpuType": "T4",
      "provenance": []
    },
    "kernelspec": {
      "display_name": "Python 3",
      "name": "python3"
    },
    "language_info": {
      "codemirror_mode": {
        "name": "ipython",
        "version": 3
      },
      "file_extension": ".py",
      "mimetype": "text/x-python",
      "name": "python",
      "nbconvert_exporter": "python",
      "pygments_lexer": "ipython3",
      "version": "3.11.7"
    }
  },
  "nbformat": 4,
  "nbformat_minor": 0
}
